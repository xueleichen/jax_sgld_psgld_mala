{
 "cells": [
  {
   "cell_type": "markdown",
   "metadata": {},
   "source": [
    "Sampling points from the RingMixture distribution"
   ]
  },
  {
   "cell_type": "code",
   "execution_count": null,
   "metadata": {
    "colab": {
     "base_uri": "https://localhost:8080/",
     "height": 300
    },
    "id": "8cMJ-BBHfDH2",
    "outputId": "7e3937af-621c-408d-b435-0f68c1aa756b"
   },
   "outputs": [],
   "source": [
    "from collections import namedtuple\n",
    "import jax\n",
    "import jax.numpy as jnp\n",
    "from jax import grad, random\n",
    "from jax.scipy.stats import gaussian_kde\n",
    "from tqdm import trange\n",
    "import time\n",
    "# norm along feature dimension d in a data with shape (N,d)\n",
    "_norm = lambda x: jnp.sqrt(jnp.sum(jnp.square(x),axis=1))\n",
    "\n",
    "# likelihood distribution\n",
    "def loglikeli(r,scale,data):\n",
    "\n",
    "    c = (0.5/(scale*jnp.sqrt(2*jnp.pi))) * jnp.exp(-((_norm(data) - r[0]) ** 2) / (2 * scale ** 2)) + \\\n",
    "        (0.5/(scale*jnp.sqrt(2*jnp.pi))) * jnp.exp(-((_norm(data) - r[1]) ** 2) / (2 * scale ** 2))\n",
    "\n",
    "    log_likelihood = jnp.sum(jnp.log(c))\n",
    "    return log_likelihood\n",
    "grad_loglikeli = grad(loglikeli)\n",
    "\n",
    "# prior distribution\n",
    "def logprior(r,scale=10):\n",
    "    return jnp.log(1/(2*jnp.pi*scale**2)) * ( -r[0]**2/(2*scale**2) - r[1]**2/(2*scale**2))\n",
    "grad_logprior = grad(logprior)\n",
    "\n",
    "# ring mixture sampler\n",
    "def sampler(r,scale,N):\n",
    "    pi = 3.141592653\n",
    "\n",
    "    r1 = random.truncated_normal(random.PRNGKey(1), -r[0],jnp.inf, shape=(N,)) * scale + r[0]\n",
    "    r2 = random.truncated_normal(random.PRNGKey(2), -r[1],jnp.inf, shape=(N,)) * scale + r[1]\n",
    "    r_mix = jnp.stack((r1,r2),axis=1)\n",
    "    mixture = random.categorical(random.PRNGKey(3),jnp.array([1.,1.]),shape=(N,))\n",
    "    print(r_mix.shape)\n",
    "    r_s = r_mix[jnp.arange(len(r_mix)),mixture]\n",
    "    theta = jax.random.uniform(random.PRNGKey(4), shape=(N,)) * 2 * pi\n",
    "\n",
    "\n",
    "    xcoords = r_s * jnp.cos(theta)\n",
    "    ycoords = r_s * jnp.sin(theta)\n",
    "    return jnp.stack([xcoords, ycoords], axis=1)\n",
    "\n",
    "\n",
    "# sample points from the distribution\n",
    "# 10000 points\n",
    "data = sampler(jnp.array([1,2]),scale=0.2,N=10000)\n",
    "\n",
    "#Plot sampled data\n",
    "import matplotlib.pyplot as plt\n",
    "x,y = data[:,0],data[:,1]\n",
    "xy = jnp.vstack([x,y])\n",
    "z = gaussian_kde(xy)(xy)\n",
    "idx = z.argsort()\n",
    "x, y, z = x[idx], y[idx], z[idx]\n",
    "\n",
    "fig, ax = plt.subplots()\n",
    "ax.scatter(x, y, c=z, s=50,marker='.')\n",
    "ax.set_aspect('equal')\n",
    "plt.show()"
   ]
  },
  {
   "cell_type": "markdown",
   "metadata": {},
   "source": [
    "SGLD implementation"
   ]
  },
  {
   "cell_type": "code",
   "execution_count": null,
   "metadata": {
    "colab": {
     "base_uri": "https://localhost:8080/"
    },
    "id": "Iiax8ZNdfpmJ",
    "outputId": "8ce359e1-8124-4923-e2ba-ed14cb841f11",
    "scrolled": false
   },
   "outputs": [],
   "source": [
    "#SGLD\n",
    "data_size = len(data)\n",
    "batch_size = 100\n",
    "batch_per_epoch = data_size // batch_size\n",
    "epoch_num = 100\n",
    "\n",
    "para = jnp.array([0.1,0.1])\n",
    "para_list_1 = []\n",
    "para_list_1.append(para)\n",
    "step_count = 0\n",
    "st = time.time()\n",
    "for i in trange(epoch_num):\n",
    "    random.shuffle(random.PRNGKey(i), data, axis=0)\n",
    "    for j in range(batch_per_epoch):\n",
    "        batch_data = data[j*batch_size:(j+1)*batch_size]\n",
    "        step_size = 0.00001*(0.0001+step_count+1)**(-0.55)\n",
    "        mygrad = (data_size / batch_size) * grad_loglikeli(para,scale=0.2,data=batch_data) + grad_logprior(para)\n",
    "        para = para + 0.5*step_size * mygrad + jnp.sqrt(step_size) * random.normal(random.PRNGKey(step_count),shape=(2,))\n",
    "        para_list_1.append(para)\n",
    "        print(para)\n",
    "        step_count += 1\n",
    "et = time.time()\n",
    "elapsed_time = et - st\n",
    "print('Execution time:', elapsed_time, 'seconds')"
   ]
  },
  {
   "cell_type": "markdown",
   "metadata": {},
   "source": [
    "pSGLD implementation"
   ]
  },
  {
   "cell_type": "code",
   "execution_count": null,
   "metadata": {
    "colab": {
     "base_uri": "https://localhost:8080/"
    },
    "id": "gAKcWZIRkyhH",
    "outputId": "b3fe8436-ef08-4246-ba1f-87bffc0ea00b"
   },
   "outputs": [],
   "source": [
    "#pSGLD\n",
    "data_size = len(data)\n",
    "batch_size = 100\n",
    "batch_per_epoch = data_size // batch_size\n",
    "epoch_num = 100\n",
    "\n",
    "para = jnp.array([0.1,0.1])\n",
    "para_list_2 = []\n",
    "para_list_2.append(para)\n",
    "step_count = 0\n",
    "st = time.time()\n",
    "for i in range(epoch_num):\n",
    "    random.shuffle(random.PRNGKey(i), data, axis=0)\n",
    "    for j in range(batch_per_epoch):\n",
    "        batch_data = data[j*batch_size:(j+1)*batch_size]\n",
    "\n",
    "        step_size = 0.00001*(0.0001+step_count+1)**(-0.55)\n",
    "        mygrad = (data_size / batch_size) * grad_loglikeli(para,scale=0.2,data=batch_data) + grad_logprior(para)\n",
    "\n",
    "        if step_count==0:\n",
    "            exps_sqgrad = jnp.square(mygrad)\n",
    "        else:\n",
    "            exps_sqgrad = 0.9999*exps_sqgrad + 0.0001*jnp.square(mygrad)\n",
    "\n",
    "        M = (jnp.sqrt(exps_sqgrad) + 0.0001)\n",
    "        para = para + 0.5*step_size * mygrad / M + jnp.sqrt(step_size) * random.normal(random.PRNGKey(step_count),shape=(2,)) / jnp.sqrt(M)\n",
    "        para_list_2.append(para)\n",
    "        print(para)\n",
    "\n",
    "        step_count += 1\n",
    "et = time.time()\n",
    "elapsed_time = et - st\n",
    "print('Execution time:', elapsed_time, 'seconds')"
   ]
  },
  {
   "cell_type": "markdown",
   "metadata": {},
   "source": [
    "MALA implementation"
   ]
  },
  {
   "cell_type": "code",
   "execution_count": null,
   "metadata": {
    "colab": {
     "base_uri": "https://localhost:8080/"
    },
    "id": "mvq0SVxd6wZD",
    "outputId": "22e5707e-3b11-4d0f-e607-015e73ead189"
   },
   "outputs": [],
   "source": [
    "# MALA\n",
    "data_size = len(data)\n",
    "\n",
    "para = jnp.array([0.1,0.1])\n",
    "mygrad = grad_loglikeli(para,scale=0.2,data=data) + grad_logprior(para)\n",
    "para_list_3 = []\n",
    "para_list_3.append(para)\n",
    "step_num = 10000\n",
    "step_count = 0\n",
    "st = time.time()\n",
    "for i in range(step_num):\n",
    "\n",
    "    step_size = 0.00001*(0.0001+step_count+1)**(-0.55)\n",
    "\n",
    "    para_pro = para + 0.5*step_size * mygrad + jnp.sqrt(step_size) * random.normal(random.PRNGKey(step_count),shape=(2,))\n",
    "    mygrad_pro = grad_loglikeli(para_pro,scale=0.2,data=data) + grad_logprior(para_pro)\n",
    "\n",
    "    A1 = loglikeli(para_pro,scale=0.2,data=data) + logprior(para_pro) - \\\n",
    "         (loglikeli(para,scale=0.2,data=data) + logprior(para))\n",
    "    A2 = -0.5 * jnp.dot((para_pro - para),mygrad_pro + mygrad)\n",
    "    A3 = 0.125 * step_size**2 * (jnp.sum(jnp.square(para)) - jnp.sum(jnp.square(para_pro)))\n",
    "    thres = jnp.exp(A1 + A2 + A3)\n",
    "    if random.uniform(random.PRNGKey(step_count)) < jnp.minimum(1,thres):\n",
    "        para = para_pro\n",
    "        mygrad = mygrad_pro\n",
    "\n",
    "    para_list_3.append(para)\n",
    "    print(para)\n",
    "\n",
    "    step_count += 1\n",
    "et = time.time()\n",
    "elapsed_time = et - st\n",
    "print('Execution time:', elapsed_time, 'seconds')"
   ]
  },
  {
   "cell_type": "markdown",
   "metadata": {},
   "source": [
    "Plot sampling-based estimation of the posterior distribution of parameters"
   ]
  },
  {
   "cell_type": "code",
   "execution_count": null,
   "metadata": {
    "id": "NnmDj70On5fB"
   },
   "outputs": [],
   "source": [
    "import numpy as np\n",
    "para_list_1 = np.array(para_list_1)\n",
    "para_list_2 = np.array(para_list_2)\n",
    "para_list_3 = np.array(para_list_3)"
   ]
  },
  {
   "cell_type": "code",
   "execution_count": null,
   "metadata": {
    "colab": {
     "base_uri": "https://localhost:8080/",
     "height": 296
    },
    "id": "XjKcHR_Srr90",
    "outputId": "fc2c802d-9df6-4f6e-fe3a-976c25575fbf"
   },
   "outputs": [],
   "source": [
    "plt.plot(para_list_1[:20,0],label='SGLD')\n",
    "plt.plot(para_list_2[:20,0],label='pSGLD')\n",
    "plt.plot(para_list_3[:20,0],label='MALA')\n",
    "plt.xlabel('Itertation')\n",
    "plt.ylabel('r1')\n",
    "plt.legend()"
   ]
  },
  {
   "cell_type": "code",
   "execution_count": null,
   "metadata": {
    "colab": {
     "base_uri": "https://localhost:8080/",
     "height": 296
    },
    "id": "9niOmE0SouoZ",
    "outputId": "e2370720-0e3d-42c9-90f0-8e8c9661ca0a"
   },
   "outputs": [],
   "source": [
    "plt.plot(para_list_1[:20,1],label='SGLD')\n",
    "plt.plot(para_list_2[:20,1],label='pSGLD')\n",
    "plt.plot(para_list_3[:20,1],label='MALA')\n",
    "plt.xlabel('Itertation')\n",
    "plt.ylabel('r2')\n",
    "plt.legend()"
   ]
  },
  {
   "cell_type": "code",
   "execution_count": null,
   "metadata": {
    "colab": {
     "base_uri": "https://localhost:8080/",
     "height": 296
    },
    "id": "rXr-FsxLpG5b",
    "outputId": "3a686a84-8c02-473c-ab76-6bbd4e120a71"
   },
   "outputs": [],
   "source": [
    "plt.plot(para_list_1[-2000:,0],label='SGLD')\n",
    "# plt.plot(para_list_2[-100:,0],label='pSGLD')\n",
    "plt.plot(para_list_3[-2000:,0],label='MALA')\n",
    "plt.xlabel('Itertation')\n",
    "plt.ylabel('r1')\n",
    "plt.legend()"
   ]
  },
  {
   "cell_type": "code",
   "execution_count": null,
   "metadata": {
    "colab": {
     "base_uri": "https://localhost:8080/",
     "height": 296
    },
    "id": "4aA4Ws97pHNI",
    "outputId": "3bdd8fa6-0acf-4f1a-be3c-4cadfa2bd66e"
   },
   "outputs": [],
   "source": [
    "plt.plot(para_list_1[-2000:,1],label='SGLD')\n",
    "# plt.plot(para_list_2[-1000:,1],label='pSGLD')\n",
    "plt.plot(para_list_3[-2000:,1],label='MALA')\n",
    "plt.xlabel('Itertation')\n",
    "plt.ylabel('r2')\n",
    "plt.legend()"
   ]
  }
 ],
 "metadata": {
  "colab": {
   "provenance": []
  },
  "gpuClass": "standard",
  "kernelspec": {
   "display_name": "Python 3 (ipykernel)",
   "language": "python",
   "name": "python3"
  },
  "language_info": {
   "codemirror_mode": {
    "name": "ipython",
    "version": 3
   },
   "file_extension": ".py",
   "mimetype": "text/x-python",
   "name": "python",
   "nbconvert_exporter": "python",
   "pygments_lexer": "ipython3",
   "version": "3.8.13"
  }
 },
 "nbformat": 4,
 "nbformat_minor": 1
}
